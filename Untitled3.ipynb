{
  "nbformat": 4,
  "nbformat_minor": 0,
  "metadata": {
    "colab": {
      "name": "Untitled3.ipynb",
      "provenance": []
    },
    "kernelspec": {
      "name": "python3",
      "display_name": "Python 3"
    },
    "language_info": {
      "name": "python"
    }
  },
  "cells": [
    {
      "cell_type": "code",
      "metadata": {
        "id": "I4CdcSSNHPtV"
      },
      "source": [
        "import pandas as pd\n",
        "data=pd.read_csv('/content/drive/MyDrive/hyderabad-salaried-employees.csv')"
      ],
      "execution_count": 44,
      "outputs": []
    },
    {
      "cell_type": "code",
      "metadata": {
        "colab": {
          "base_uri": "https://localhost:8080/",
          "height": 398
        },
        "id": "oOrdQZp6Htb6",
        "outputId": "5e717bae-32d6-4d2e-ffca-d3622e877360"
      },
      "source": [
        "data.head()"
      ],
      "execution_count": 45,
      "outputs": [
        {
          "output_type": "execute_result",
          "data": {
            "text/html": [
              "<div>\n",
              "<style scoped>\n",
              "    .dataframe tbody tr th:only-of-type {\n",
              "        vertical-align: middle;\n",
              "    }\n",
              "\n",
              "    .dataframe tbody tr th {\n",
              "        vertical-align: top;\n",
              "    }\n",
              "\n",
              "    .dataframe thead th {\n",
              "        text-align: right;\n",
              "    }\n",
              "</style>\n",
              "<table border=\"1\" class=\"dataframe\">\n",
              "  <thead>\n",
              "    <tr style=\"text-align: right;\">\n",
              "      <th></th>\n",
              "      <th>candidateName</th>\n",
              "      <th>companyName</th>\n",
              "      <th>designation</th>\n",
              "      <th>emailAddress</th>\n",
              "      <th>experienceMas</th>\n",
              "      <th>locationCurrentMas</th>\n",
              "      <th>qualificationMas</th>\n",
              "      <th>qualificationMas2</th>\n",
              "      <th>salary</th>\n",
              "      <th>tel_Other</th>\n",
              "      <th>Category</th>\n",
              "    </tr>\n",
              "  </thead>\n",
              "  <tbody>\n",
              "    <tr>\n",
              "      <th>0</th>\n",
              "      <td>Ruchismita Dash</td>\n",
              "      <td>Amdocs</td>\n",
              "      <td>Software Developer</td>\n",
              "      <td>ruchidash89@gmail.com</td>\n",
              "      <td>2 Year(s) 1 Month(s)</td>\n",
              "      <td>Hyderabad/ Secunderabad</td>\n",
              "      <td>BE/ B.Tech (Engineering)</td>\n",
              "      <td>NaN</td>\n",
              "      <td>Rs. 6.71 lacs</td>\n",
              "      <td>8390909230</td>\n",
              "      <td>HYDERABAD-SALARIED</td>\n",
              "    </tr>\n",
              "    <tr>\n",
              "      <th>1</th>\n",
              "      <td>MANISHA DAS</td>\n",
              "      <td>APOLLO HOSPITALS ENTERPRISES LIMITED</td>\n",
              "      <td>SENIOR EXECUTIVE-OPERATIONS</td>\n",
              "      <td>manisha.das82@gmail.com</td>\n",
              "      <td>5 Year(s) 9 Month(s)</td>\n",
              "      <td>Hyderabad/ Secunderabad</td>\n",
              "      <td>MBA/ PGDM</td>\n",
              "      <td>B.Pharm. (Pharmacy)</td>\n",
              "      <td>Rs. 5.0 lacs</td>\n",
              "      <td>9701900131</td>\n",
              "      <td>HYDERABAD-SALARIED</td>\n",
              "    </tr>\n",
              "    <tr>\n",
              "      <th>2</th>\n",
              "      <td>C J GEETHA PRIYA</td>\n",
              "      <td>propertyoneshop.com</td>\n",
              "      <td>System Administrator</td>\n",
              "      <td>geethapriya89@gmail.com</td>\n",
              "      <td>4 Year(s) 4 Month(s)</td>\n",
              "      <td>Hyderabad/ Secunderabad</td>\n",
              "      <td>B.Com. (Commerce)</td>\n",
              "      <td>NaN</td>\n",
              "      <td>Rs. 84.0 lacs</td>\n",
              "      <td>9705407817</td>\n",
              "      <td>HYDERABAD-SALARIED</td>\n",
              "    </tr>\n",
              "    <tr>\n",
              "      <th>3</th>\n",
              "      <td>SRIKANTH</td>\n",
              "      <td>Axis Bank Ltd</td>\n",
              "      <td>NaN</td>\n",
              "      <td>sburisetty@gmail.com</td>\n",
              "      <td>7 Year(s) 11 Month(s)</td>\n",
              "      <td>Hyderabad/ Secunderabad</td>\n",
              "      <td>NaN</td>\n",
              "      <td>MBA/ PGDM</td>\n",
              "      <td>Rs. 7.0 lacs</td>\n",
              "      <td>8142444544</td>\n",
              "      <td>HYDERABAD-SALARIED</td>\n",
              "    </tr>\n",
              "    <tr>\n",
              "      <th>4</th>\n",
              "      <td>Madduri Srinivas</td>\n",
              "      <td>CTS</td>\n",
              "      <td>Associate Projects</td>\n",
              "      <td>madduri12@gmail.com</td>\n",
              "      <td>6 Year(s) 8 Month(s)</td>\n",
              "      <td>Hyderabad/ Secunderabad</td>\n",
              "      <td>B.Com. (Commerce)</td>\n",
              "      <td>MCA/ PGDCA</td>\n",
              "      <td>Rs. 8.05 lacs</td>\n",
              "      <td>9581812128</td>\n",
              "      <td>HYDERABAD-SALARIED</td>\n",
              "    </tr>\n",
              "  </tbody>\n",
              "</table>\n",
              "</div>"
            ],
            "text/plain": [
              "      candidateName  ...            Category\n",
              "0   Ruchismita Dash  ...  HYDERABAD-SALARIED\n",
              "1       MANISHA DAS  ...  HYDERABAD-SALARIED\n",
              "2  C J GEETHA PRIYA  ...  HYDERABAD-SALARIED\n",
              "3          SRIKANTH  ...  HYDERABAD-SALARIED\n",
              "4  Madduri Srinivas  ...  HYDERABAD-SALARIED\n",
              "\n",
              "[5 rows x 11 columns]"
            ]
          },
          "metadata": {},
          "execution_count": 45
        }
      ]
    },
    {
      "cell_type": "code",
      "metadata": {
        "colab": {
          "base_uri": "https://localhost:8080/"
        },
        "id": "sn9ijfMrH0mX",
        "outputId": "86cceed0-ee5e-46a0-9c95-5bd0e3917607"
      },
      "source": [
        "data.columns"
      ],
      "execution_count": 46,
      "outputs": [
        {
          "output_type": "execute_result",
          "data": {
            "text/plain": [
              "Index(['candidateName', 'companyName', 'designation', 'emailAddress',\n",
              "       'experienceMas', 'locationCurrentMas', 'qualificationMas',\n",
              "       'qualificationMas2', 'salary', 'tel_Other', 'Category'],\n",
              "      dtype='object')"
            ]
          },
          "metadata": {},
          "execution_count": 46
        }
      ]
    },
    {
      "cell_type": "code",
      "metadata": {
        "colab": {
          "base_uri": "https://localhost:8080/"
        },
        "id": "hUpZ6AZhH2ts",
        "outputId": "e2450b95-0337-4cc5-c181-7d436ff6761e"
      },
      "source": [
        "data['Category'].value_counts()"
      ],
      "execution_count": 47,
      "outputs": [
        {
          "output_type": "execute_result",
          "data": {
            "text/plain": [
              "HYDERABAD-SALARIED    28847\n",
              "Name: Category, dtype: int64"
            ]
          },
          "metadata": {},
          "execution_count": 47
        }
      ]
    },
    {
      "cell_type": "code",
      "metadata": {
        "colab": {
          "base_uri": "https://localhost:8080/"
        },
        "id": "tm4g8y8IH492",
        "outputId": "298bfacc-71f9-4c4f-b56a-194e9181abd0"
      },
      "source": [
        "data['salary'].value_counts()"
      ],
      "execution_count": 48,
      "outputs": [
        {
          "output_type": "execute_result",
          "data": {
            "text/plain": [
              "Rs. 6.0 lacs      1695\n",
              "Rs. 5.0 lacs      1574\n",
              "Rs. 7.0 lacs       900\n",
              "Rs. 8.0 lacs       806\n",
              "Rs. 5.5 lacs       789\n",
              "                  ... \n",
              "Rs. 32.26 lacs       1\n",
              "Rs. 15.29 lacs       1\n",
              "Rs. 13.78 lacs       1\n",
              "Rs. 14.79 lacs       1\n",
              "Rs. 17.95 lacs       1\n",
              "Name: salary, Length: 1560, dtype: int64"
            ]
          },
          "metadata": {},
          "execution_count": 48
        }
      ]
    },
    {
      "cell_type": "code",
      "metadata": {
        "id": "tKF4HQUCH7QP"
      },
      "source": [
        "valid_data=data.loc [:,['companyName','designation','experienceMas','qualificationMas','qualificationMas2','salary']]"
      ],
      "execution_count": 49,
      "outputs": []
    },
    {
      "cell_type": "code",
      "metadata": {
        "colab": {
          "base_uri": "https://localhost:8080/"
        },
        "id": "phjG91yPH_C9",
        "outputId": "dad6428f-b74a-47b6-806b-68b55ec2e74d"
      },
      "source": [
        "\n",
        "valid_data.isnull().sum()"
      ],
      "execution_count": 50,
      "outputs": [
        {
          "output_type": "execute_result",
          "data": {
            "text/plain": [
              "companyName             41\n",
              "designation           4630\n",
              "experienceMas            0\n",
              "qualificationMas      4876\n",
              "qualificationMas2    13398\n",
              "salary                   0\n",
              "dtype: int64"
            ]
          },
          "metadata": {},
          "execution_count": 50
        }
      ]
    },
    {
      "cell_type": "code",
      "metadata": {
        "colab": {
          "base_uri": "https://localhost:8080/",
          "height": 422
        },
        "id": "8cl7OEOEIDua",
        "outputId": "a689f582-8132-4657-e374-02041759a852"
      },
      "source": [
        "df1 = valid_data[valid_data.isna().any(axis=1)]\n",
        "df1"
      ],
      "execution_count": 51,
      "outputs": [
        {
          "output_type": "execute_result",
          "data": {
            "text/html": [
              "<div>\n",
              "<style scoped>\n",
              "    .dataframe tbody tr th:only-of-type {\n",
              "        vertical-align: middle;\n",
              "    }\n",
              "\n",
              "    .dataframe tbody tr th {\n",
              "        vertical-align: top;\n",
              "    }\n",
              "\n",
              "    .dataframe thead th {\n",
              "        text-align: right;\n",
              "    }\n",
              "</style>\n",
              "<table border=\"1\" class=\"dataframe\">\n",
              "  <thead>\n",
              "    <tr style=\"text-align: right;\">\n",
              "      <th></th>\n",
              "      <th>companyName</th>\n",
              "      <th>designation</th>\n",
              "      <th>experienceMas</th>\n",
              "      <th>qualificationMas</th>\n",
              "      <th>qualificationMas2</th>\n",
              "      <th>salary</th>\n",
              "    </tr>\n",
              "  </thead>\n",
              "  <tbody>\n",
              "    <tr>\n",
              "      <th>0</th>\n",
              "      <td>Amdocs</td>\n",
              "      <td>Software Developer</td>\n",
              "      <td>2 Year(s) 1 Month(s)</td>\n",
              "      <td>BE/ B.Tech (Engineering)</td>\n",
              "      <td>NaN</td>\n",
              "      <td>Rs. 6.71 lacs</td>\n",
              "    </tr>\n",
              "    <tr>\n",
              "      <th>2</th>\n",
              "      <td>propertyoneshop.com</td>\n",
              "      <td>System Administrator</td>\n",
              "      <td>4 Year(s) 4 Month(s)</td>\n",
              "      <td>B.Com. (Commerce)</td>\n",
              "      <td>NaN</td>\n",
              "      <td>Rs. 84.0 lacs</td>\n",
              "    </tr>\n",
              "    <tr>\n",
              "      <th>3</th>\n",
              "      <td>Axis Bank Ltd</td>\n",
              "      <td>NaN</td>\n",
              "      <td>7 Year(s) 11 Month(s)</td>\n",
              "      <td>NaN</td>\n",
              "      <td>MBA/ PGDM</td>\n",
              "      <td>Rs. 7.0 lacs</td>\n",
              "    </tr>\n",
              "    <tr>\n",
              "      <th>5</th>\n",
              "      <td>Mylan Laboratories Ltd</td>\n",
              "      <td>Sr. Manager</td>\n",
              "      <td>20 Year(s) 2 Month(s)</td>\n",
              "      <td>NaN</td>\n",
              "      <td>Ph.D. (Doctorate)</td>\n",
              "      <td>Rs. 16.0 lacs</td>\n",
              "    </tr>\n",
              "    <tr>\n",
              "      <th>7</th>\n",
              "      <td>L &amp; T financce</td>\n",
              "      <td>Manager</td>\n",
              "      <td>12 Year(s)</td>\n",
              "      <td>NaN</td>\n",
              "      <td>MBA/ PGDM</td>\n",
              "      <td>Rs. 8.0 lacs</td>\n",
              "    </tr>\n",
              "    <tr>\n",
              "      <th>...</th>\n",
              "      <td>...</td>\n",
              "      <td>...</td>\n",
              "      <td>...</td>\n",
              "      <td>...</td>\n",
              "      <td>...</td>\n",
              "      <td>...</td>\n",
              "    </tr>\n",
              "    <tr>\n",
              "      <th>28841</th>\n",
              "      <td>Sarvotham Care Ltd</td>\n",
              "      <td>NaN</td>\n",
              "      <td>4 Year(s) 2 Month(s)</td>\n",
              "      <td>NaN</td>\n",
              "      <td>Ph.D. (Doctorate)</td>\n",
              "      <td>Rs. 8.6 lacs</td>\n",
              "    </tr>\n",
              "    <tr>\n",
              "      <th>28842</th>\n",
              "      <td>SOTC KUONI TRAVEL INDIA PVT LTD</td>\n",
              "      <td>Sr. Manager</td>\n",
              "      <td>13 Year(s)</td>\n",
              "      <td>B.Sc. (Science)</td>\n",
              "      <td>NaN</td>\n",
              "      <td>Rs. 10.09 lacs</td>\n",
              "    </tr>\n",
              "    <tr>\n",
              "      <th>28843</th>\n",
              "      <td>Ibm Global Services</td>\n",
              "      <td>Database Administrator</td>\n",
              "      <td>11 Year(s)</td>\n",
              "      <td>B.Com. (Commerce)</td>\n",
              "      <td>NaN</td>\n",
              "      <td>Rs. 7.0 lacs</td>\n",
              "    </tr>\n",
              "    <tr>\n",
              "      <th>28844</th>\n",
              "      <td>Computer Sciences Corp Ltd  ( csc )</td>\n",
              "      <td>associate professional</td>\n",
              "      <td>1 Year(s) 11 Month(s)</td>\n",
              "      <td>BE/ B.Tech (Engineering)</td>\n",
              "      <td>NaN</td>\n",
              "      <td>Rs. 5.22 lacs</td>\n",
              "    </tr>\n",
              "    <tr>\n",
              "      <th>28846</th>\n",
              "      <td>Infosys</td>\n",
              "      <td>NaN</td>\n",
              "      <td>4 Month(s)</td>\n",
              "      <td>NaN</td>\n",
              "      <td>M.Sc. (Science)</td>\n",
              "      <td>Rs. 7.5 lacs</td>\n",
              "    </tr>\n",
              "  </tbody>\n",
              "</table>\n",
              "<p>18593 rows × 6 columns</p>\n",
              "</div>"
            ],
            "text/plain": [
              "                                companyName  ...          salary\n",
              "0                                   Amdocs   ...   Rs. 6.71 lacs\n",
              "2                      propertyoneshop.com   ...   Rs. 84.0 lacs\n",
              "3                            Axis Bank Ltd   ...    Rs. 7.0 lacs\n",
              "5                   Mylan Laboratories Ltd   ...   Rs. 16.0 lacs\n",
              "7                           L & T financce   ...    Rs. 8.0 lacs\n",
              "...                                     ...  ...             ...\n",
              "28841                   Sarvotham Care Ltd   ...    Rs. 8.6 lacs\n",
              "28842      SOTC KUONI TRAVEL INDIA PVT LTD   ...  Rs. 10.09 lacs\n",
              "28843                  Ibm Global Services   ...    Rs. 7.0 lacs\n",
              "28844  Computer Sciences Corp Ltd  ( csc )   ...   Rs. 5.22 lacs\n",
              "28846                              Infosys   ...    Rs. 7.5 lacs\n",
              "\n",
              "[18593 rows x 6 columns]"
            ]
          },
          "metadata": {},
          "execution_count": 51
        }
      ]
    },
    {
      "cell_type": "code",
      "metadata": {
        "colab": {
          "base_uri": "https://localhost:8080/"
        },
        "id": "WCt1OuI6IH2F",
        "outputId": "0ba6e0db-0ed7-458b-9dd0-90ab917e65af"
      },
      "source": [
        "valid_data['qualificationMas2'].value_counts()"
      ],
      "execution_count": 52,
      "outputs": [
        {
          "output_type": "execute_result",
          "data": {
            "text/plain": [
              "MBA/ PGDM                            5448\n",
              "MCA/ PGDCA                           1782\n",
              "M.Sc. (Science)                      1496\n",
              "ME/ M.Tech./ MS (Engg/ Sciences)     1051\n",
              "B.Sc. (Science)                       697\n",
              "B.Com. (Commerce)                     554\n",
              "M.Com. (Commerce)                     517\n",
              "PG Diploma                            449\n",
              "BE/ B.Tech (Engineering)              393\n",
              "CA (Chartered Accountant)             390\n",
              "MA (Arts)                             313\n",
              "12th & Not Pursuing Graduation        313\n",
              "Other Post Graduation                 309\n",
              "Diploma-Other Diploma                 302\n",
              "Other School/ Graduation              252\n",
              "Ph.D. (Doctorate)                     166\n",
              "M.Pharm. (Pharmacy)                   143\n",
              "ICWA                                  141\n",
              "BA (Arts)                             113\n",
              "MD/ MS (Medicine)                      90\n",
              "BCA (Computer Application)             86\n",
              "ML/ LLM (Law)                          79\n",
              "CS (Company Secretary)                 56\n",
              "BL/LLB                                 38\n",
              "BBA/ BBM/ BBS                          29\n",
              "Master of Dental Surgery (MDS)         27\n",
              "M.Phil. (Philosophy)                   25\n",
              "MSW (Social Work)                      24\n",
              "B.Pharm. (Pharmacy)                    24\n",
              "B.Ed. (Education)                      19\n",
              "MBBS                                   15\n",
              "Master of Hospital Administration      14\n",
              "M.Ed. (Education)                      13\n",
              "M.Arch. (Architecture)                 12\n",
              "Other Doctorate                         9\n",
              "BHM (Hotel Management)                  7\n",
              "M.V.Sc. (Veterinary Science)            7\n",
              "B.Arch. (Architecture)                  6\n",
              "M.Lib.Sc. (Library Sciences)            6\n",
              "CFA (Chartered Financial Analyst)       6\n",
              "Integrated PG Course                    6\n",
              "Master of Health Administration         5\n",
              "MFA (Fine Arts)                         5\n",
              "M.Plan. (Planning)                      4\n",
              "BDS (Dental Surgery)                    3\n",
              "B.V.Sc. (Veterinary Science)            2\n",
              "MPT (Physiotherapy)                     2\n",
              "Diploma-Engineering                     1\n",
              "Name: qualificationMas2, dtype: int64"
            ]
          },
          "metadata": {},
          "execution_count": 52
        }
      ]
    },
    {
      "cell_type": "code",
      "metadata": {
        "colab": {
          "base_uri": "https://localhost:8080/"
        },
        "id": "2aXtj5jPIKbc",
        "outputId": "4d98d785-6e2b-43de-e65c-003c2202372d"
      },
      "source": [
        "valid_data['qualificationMas'].value_counts()"
      ],
      "execution_count": 53,
      "outputs": [
        {
          "output_type": "execute_result",
          "data": {
            "text/plain": [
              "BE/ B.Tech (Engineering)            8922\n",
              "B.Com. (Commerce)                   4078\n",
              "B.Sc. (Science)                     3737\n",
              "MBA/ PGDM                           1119\n",
              "BA (Arts)                            788\n",
              "Diploma-Other Diploma                763\n",
              "Diploma-Engineering                  600\n",
              "BCA (Computer Application)           467\n",
              "MCA/ PGDCA                           430\n",
              "M.Sc. (Science)                      428\n",
              "Other School/ Graduation             327\n",
              "BBA/ BBM/ BBS                        281\n",
              "BL/LLB                               260\n",
              "12th & Not Pursuing Graduation       241\n",
              "B.Pharm. (Pharmacy)                  229\n",
              "ME/ M.Tech./ MS (Engg/ Sciences)     209\n",
              "M.Com. (Commerce)                    127\n",
              "MBBS                                 127\n",
              "BHM (Hotel Management)               110\n",
              "B.Ed. (Education)                     94\n",
              "Ph.D. (Doctorate)                     88\n",
              "CA (Chartered Accountant)             87\n",
              "B.Arch. (Architecture)                77\n",
              "MA (Arts)                             61\n",
              "BDS (Dental Surgery)                  47\n",
              "BFA (Fine Arts)                       46\n",
              "ICWA                                  38\n",
              "MD/ MS (Medicine)                     18\n",
              "M.Pharm. (Pharmacy)                   18\n",
              "B.V.Sc. (Veterinary Science)          18\n",
              "M.Phil. (Philosophy)                  17\n",
              "Diploma-Arts/ Graphic Designing       16\n",
              "ML/ LLM (Law)                         16\n",
              "BPT (Physiotherapy)                   15\n",
              "CS (Company Secretary)                14\n",
              "BHMS (Homeopathy)                     11\n",
              "B.Lib.Sc. (Library Sciences)           7\n",
              "B.El.Ed. (Elementary Education)        6\n",
              "B.P.Ed. (Physical Education)           5\n",
              "Master of Dental Surgery (MDS)         5\n",
              "B.Plan. (Planning)                     4\n",
              "Bachelor of Fashion Technology         4\n",
              "BSW (Social Work)                      3\n",
              "M.Arch. (Architecture)                 3\n",
              "Diploma-Languages                      2\n",
              "M.Ed. (Education)                      2\n",
              "Pilot Licenses                         2\n",
              "Diploma-Fashion/ Design                1\n",
              "BGL                                    1\n",
              "Other Post Graduation                  1\n",
              "PG Diploma                             1\n",
              "Name: qualificationMas, dtype: int64"
            ]
          },
          "metadata": {},
          "execution_count": 53
        }
      ]
    },
    {
      "cell_type": "code",
      "metadata": {
        "id": "VEcE3eh6INv6"
      },
      "source": [
        "valid_data.dropna(inplace=True)"
      ],
      "execution_count": 54,
      "outputs": []
    },
    {
      "cell_type": "code",
      "metadata": {
        "id": "KtmlDB9AIQ6d"
      },
      "source": [
        "valid_data.reset_index(inplace=True,drop=True) #drop=True will remove the old index"
      ],
      "execution_count": 55,
      "outputs": []
    },
    {
      "cell_type": "code",
      "metadata": {
        "colab": {
          "base_uri": "https://localhost:8080/",
          "height": 595
        },
        "id": "p9dxJYGlIS2Q",
        "outputId": "50795536-fff0-4f53-ae33-23741f170999"
      },
      "source": [
        "valid_data"
      ],
      "execution_count": 56,
      "outputs": [
        {
          "output_type": "execute_result",
          "data": {
            "text/html": [
              "<div>\n",
              "<style scoped>\n",
              "    .dataframe tbody tr th:only-of-type {\n",
              "        vertical-align: middle;\n",
              "    }\n",
              "\n",
              "    .dataframe tbody tr th {\n",
              "        vertical-align: top;\n",
              "    }\n",
              "\n",
              "    .dataframe thead th {\n",
              "        text-align: right;\n",
              "    }\n",
              "</style>\n",
              "<table border=\"1\" class=\"dataframe\">\n",
              "  <thead>\n",
              "    <tr style=\"text-align: right;\">\n",
              "      <th></th>\n",
              "      <th>companyName</th>\n",
              "      <th>designation</th>\n",
              "      <th>experienceMas</th>\n",
              "      <th>qualificationMas</th>\n",
              "      <th>qualificationMas2</th>\n",
              "      <th>salary</th>\n",
              "    </tr>\n",
              "  </thead>\n",
              "  <tbody>\n",
              "    <tr>\n",
              "      <th>0</th>\n",
              "      <td>APOLLO HOSPITALS ENTERPRISES LIMITED</td>\n",
              "      <td>SENIOR EXECUTIVE-OPERATIONS</td>\n",
              "      <td>5 Year(s) 9 Month(s)</td>\n",
              "      <td>MBA/ PGDM</td>\n",
              "      <td>B.Pharm. (Pharmacy)</td>\n",
              "      <td>Rs. 5.0 lacs</td>\n",
              "    </tr>\n",
              "    <tr>\n",
              "      <th>1</th>\n",
              "      <td>CTS</td>\n",
              "      <td>Associate Projects</td>\n",
              "      <td>6 Year(s) 8 Month(s)</td>\n",
              "      <td>B.Com. (Commerce)</td>\n",
              "      <td>MCA/ PGDCA</td>\n",
              "      <td>Rs. 8.05 lacs</td>\n",
              "    </tr>\n",
              "    <tr>\n",
              "      <th>2</th>\n",
              "      <td>Bank Of America</td>\n",
              "      <td>Assistant Manager NonVoice Operations</td>\n",
              "      <td>11 Year(s) 4 Month(s)</td>\n",
              "      <td>MBA/ PGDM</td>\n",
              "      <td>B.Com. (Commerce)</td>\n",
              "      <td>Rs. 8.33 lacs</td>\n",
              "    </tr>\n",
              "    <tr>\n",
              "      <th>3</th>\n",
              "      <td>Telenor</td>\n",
              "      <td>territory sales manger</td>\n",
              "      <td>6 Year(s)</td>\n",
              "      <td>B.Com. (Commerce)</td>\n",
              "      <td>MBA/ PGDM</td>\n",
              "      <td>Rs. 5.0 lacs</td>\n",
              "    </tr>\n",
              "    <tr>\n",
              "      <th>4</th>\n",
              "      <td>Tata Consultancy Services Ltd</td>\n",
              "      <td>Project Leader/ Tech Lead</td>\n",
              "      <td>10 Year(s) 3 Month(s)</td>\n",
              "      <td>ME/ M.Tech./ MS (Engg/ Sciences)</td>\n",
              "      <td>BE/ B.Tech (Engineering)</td>\n",
              "      <td>Rs. 16.03 lacs</td>\n",
              "    </tr>\n",
              "    <tr>\n",
              "      <th>...</th>\n",
              "      <td>...</td>\n",
              "      <td>...</td>\n",
              "      <td>...</td>\n",
              "      <td>...</td>\n",
              "      <td>...</td>\n",
              "      <td>...</td>\n",
              "    </tr>\n",
              "    <tr>\n",
              "      <th>10249</th>\n",
              "      <td>Dr. Reddys Laboratories Ltd</td>\n",
              "      <td>Scientist</td>\n",
              "      <td>9 Year(s)</td>\n",
              "      <td>B.Sc. (Science)</td>\n",
              "      <td>M.Sc. (Science)</td>\n",
              "      <td>Rs. 9.2 lacs</td>\n",
              "    </tr>\n",
              "    <tr>\n",
              "      <th>10250</th>\n",
              "      <td>Deloitte Support Services India Pvt Ltd</td>\n",
              "      <td>Manager</td>\n",
              "      <td>16 Year(s)</td>\n",
              "      <td>B.Sc. (Science)</td>\n",
              "      <td>MBA/ PGDM</td>\n",
              "      <td>Rs. 20.0 lacs</td>\n",
              "    </tr>\n",
              "    <tr>\n",
              "      <th>10251</th>\n",
              "      <td>franklin templeton asset management india pvt ...</td>\n",
              "      <td>Sr. Associate / Team Lead</td>\n",
              "      <td>8 Year(s) 2 Month(s)</td>\n",
              "      <td>B.Com. (Commerce)</td>\n",
              "      <td>MBA/ PGDM</td>\n",
              "      <td>Rs. 7.1 lacs</td>\n",
              "    </tr>\n",
              "    <tr>\n",
              "      <th>10252</th>\n",
              "      <td>Honeywell Technology Solutions Lab Pvt Ltd</td>\n",
              "      <td>Software engineer</td>\n",
              "      <td>1 Year(s) 3 Month(s)</td>\n",
              "      <td>BE/ B.Tech (Engineering)</td>\n",
              "      <td>ME/ M.Tech./ MS (Engg/ Sciences)</td>\n",
              "      <td>Rs. 8.0 lacs</td>\n",
              "    </tr>\n",
              "    <tr>\n",
              "      <th>10253</th>\n",
              "      <td>Religare Enterprises</td>\n",
              "      <td>Business Analyst</td>\n",
              "      <td>5 Year(s) 8 Month(s)</td>\n",
              "      <td>BE/ B.Tech (Engineering)</td>\n",
              "      <td>12th &amp; Not Pursuing Graduation</td>\n",
              "      <td>Rs. 5.05 lacs</td>\n",
              "    </tr>\n",
              "  </tbody>\n",
              "</table>\n",
              "<p>10254 rows × 6 columns</p>\n",
              "</div>"
            ],
            "text/plain": [
              "                                             companyName  ...          salary\n",
              "0                  APOLLO HOSPITALS ENTERPRISES LIMITED   ...    Rs. 5.0 lacs\n",
              "1                                                   CTS   ...   Rs. 8.05 lacs\n",
              "2                                       Bank Of America   ...   Rs. 8.33 lacs\n",
              "3                                               Telenor   ...    Rs. 5.0 lacs\n",
              "4                         Tata Consultancy Services Ltd   ...  Rs. 16.03 lacs\n",
              "...                                                  ...  ...             ...\n",
              "10249                       Dr. Reddys Laboratories Ltd   ...    Rs. 9.2 lacs\n",
              "10250           Deloitte Support Services India Pvt Ltd   ...   Rs. 20.0 lacs\n",
              "10251  franklin templeton asset management india pvt ...  ...    Rs. 7.1 lacs\n",
              "10252        Honeywell Technology Solutions Lab Pvt Ltd   ...    Rs. 8.0 lacs\n",
              "10253                              Religare Enterprises   ...   Rs. 5.05 lacs\n",
              "\n",
              "[10254 rows x 6 columns]"
            ]
          },
          "metadata": {},
          "execution_count": 56
        }
      ]
    },
    {
      "cell_type": "code",
      "metadata": {
        "colab": {
          "base_uri": "https://localhost:8080/"
        },
        "id": "2pu_GaxLIU5Z",
        "outputId": "ae79c1c2-1432-4fa2-b297-4c9494acddaa"
      },
      "source": [
        "valid_data.isnull().sum()"
      ],
      "execution_count": 57,
      "outputs": [
        {
          "output_type": "execute_result",
          "data": {
            "text/plain": [
              "companyName          0\n",
              "designation          0\n",
              "experienceMas        0\n",
              "qualificationMas     0\n",
              "qualificationMas2    0\n",
              "salary               0\n",
              "dtype: int64"
            ]
          },
          "metadata": {},
          "execution_count": 57
        }
      ]
    },
    {
      "cell_type": "code",
      "metadata": {
        "colab": {
          "base_uri": "https://localhost:8080/"
        },
        "id": "-A-sNWqMIXSw",
        "outputId": "56c13f18-e78b-42c3-d6fc-bfc1ae41238e"
      },
      "source": [
        "valid_data.shape"
      ],
      "execution_count": 58,
      "outputs": [
        {
          "output_type": "execute_result",
          "data": {
            "text/plain": [
              "(10254, 6)"
            ]
          },
          "metadata": {},
          "execution_count": 58
        }
      ]
    },
    {
      "cell_type": "code",
      "metadata": {
        "id": "FXvDlz_MIZa8"
      },
      "source": [
        "import seaborn as sns\n",
        "import matplotlib.pyplot as plt\n",
        "%matplotlib inline"
      ],
      "execution_count": 59,
      "outputs": []
    },
    {
      "cell_type": "code",
      "metadata": {
        "id": "Y6oDhWUWIeOx"
      },
      "source": [
        "y=valid_data['salary'].values"
      ],
      "execution_count": 61,
      "outputs": []
    },
    {
      "cell_type": "code",
      "metadata": {
        "id": "DKg4QvlJIi_L"
      },
      "source": [
        "from sklearn.preprocessing import LabelEncoder\n",
        "\n",
        "lab = LabelEncoder()\n",
        "\n",
        "salary_label = lab.fit_transform(y)\n",
        "\n",
        "\n",
        "\n"
      ],
      "execution_count": 63,
      "outputs": []
    },
    {
      "cell_type": "code",
      "metadata": {
        "colab": {
          "base_uri": "https://localhost:8080/"
        },
        "id": "vXOT50KFdB8o",
        "outputId": "e1c0ebe8-33d6-4a0d-a2c5-a5bbb4733e3f"
      },
      "source": [
        "lab.classes_"
      ],
      "execution_count": 64,
      "outputs": [
        {
          "output_type": "execute_result",
          "data": {
            "text/plain": [
              "array(['Rs. 10.0 lacs', 'Rs. 10.01 lacs', 'Rs. 10.02 lacs', ...,\n",
              "       'Rs. 96.96 lacs', 'Rs. 99.0 lacs', 'Rs. 99.99 lacs'], dtype=object)"
            ]
          },
          "metadata": {},
          "execution_count": 64
        }
      ]
    },
    {
      "cell_type": "code",
      "metadata": {
        "id": "WgVZkLiiBf3A"
      },
      "source": [
        "valid_data['companyName'] = valid_data['companyName'].astype('category')\n",
        "valid_data['designation'] = valid_data['designation'].astype('category')\n",
        "valid_data['experienceMas'] = valid_data['experienceMas'].astype('category')\n",
        "valid_data['qualificationMas'] = valid_data['qualificationMas'].astype('category')\n",
        "valid_data['qualificationMas2'] = valid_data['qualificationMas2'].astype('category')\n",
        "valid_data['salary'] = valid_data['salary'].astype('category')"
      ],
      "execution_count": 65,
      "outputs": []
    },
    {
      "cell_type": "code",
      "metadata": {
        "id": "wLXoyNLS_Ra8"
      },
      "source": [
        "valid_data['companyName'] = valid_data['companyName'].cat.codes\n",
        "valid_data['designation'] = valid_data['designation'].cat.codes\n",
        "valid_data['experienceMas'] = valid_data['experienceMas'].cat.codes\n",
        "valid_data['qualificationMas'] = valid_data['qualificationMas'].cat.codes\n",
        "valid_data['qualificationMas2'] = valid_data['qualificationMas2'].cat.codes\n",
        "valid_data['salary'] = valid_data['salary'].cat.codes"
      ],
      "execution_count": 66,
      "outputs": []
    },
    {
      "cell_type": "code",
      "metadata": {
        "colab": {
          "base_uri": "https://localhost:8080/",
          "height": 205
        },
        "id": "Gg2fFoPSBmnn",
        "outputId": "a60a7de9-6122-4be9-ac55-7fde04ff5bbb"
      },
      "source": [
        "valid_data.head()"
      ],
      "execution_count": 67,
      "outputs": [
        {
          "output_type": "execute_result",
          "data": {
            "text/html": [
              "<div>\n",
              "<style scoped>\n",
              "    .dataframe tbody tr th:only-of-type {\n",
              "        vertical-align: middle;\n",
              "    }\n",
              "\n",
              "    .dataframe tbody tr th {\n",
              "        vertical-align: top;\n",
              "    }\n",
              "\n",
              "    .dataframe thead th {\n",
              "        text-align: right;\n",
              "    }\n",
              "</style>\n",
              "<table border=\"1\" class=\"dataframe\">\n",
              "  <thead>\n",
              "    <tr style=\"text-align: right;\">\n",
              "      <th></th>\n",
              "      <th>companyName</th>\n",
              "      <th>designation</th>\n",
              "      <th>experienceMas</th>\n",
              "      <th>qualificationMas</th>\n",
              "      <th>qualificationMas2</th>\n",
              "      <th>salary</th>\n",
              "    </tr>\n",
              "  </thead>\n",
              "  <tbody>\n",
              "    <tr>\n",
              "      <th>0</th>\n",
              "      <td>122</td>\n",
              "      <td>3869</td>\n",
              "      <td>351</td>\n",
              "      <td>34</td>\n",
              "      <td>4</td>\n",
              "      <td>612</td>\n",
              "    </tr>\n",
              "    <tr>\n",
              "      <th>1</th>\n",
              "      <td>977</td>\n",
              "      <td>740</td>\n",
              "      <td>367</td>\n",
              "      <td>2</td>\n",
              "      <td>33</td>\n",
              "      <td>885</td>\n",
              "    </tr>\n",
              "    <tr>\n",
              "      <th>2</th>\n",
              "      <td>711</td>\n",
              "      <td>554</td>\n",
              "      <td>32</td>\n",
              "      <td>34</td>\n",
              "      <td>2</td>\n",
              "      <td>907</td>\n",
              "    </tr>\n",
              "    <tr>\n",
              "      <th>3</th>\n",
              "      <td>5338</td>\n",
              "      <td>6054</td>\n",
              "      <td>357</td>\n",
              "      <td>2</td>\n",
              "      <td>31</td>\n",
              "      <td>612</td>\n",
              "    </tr>\n",
              "    <tr>\n",
              "      <th>4</th>\n",
              "      <td>5250</td>\n",
              "      <td>3494</td>\n",
              "      <td>18</td>\n",
              "      <td>38</td>\n",
              "      <td>11</td>\n",
              "      <td>283</td>\n",
              "    </tr>\n",
              "  </tbody>\n",
              "</table>\n",
              "</div>"
            ],
            "text/plain": [
              "   companyName  designation  ...  qualificationMas2  salary\n",
              "0          122         3869  ...                  4     612\n",
              "1          977          740  ...                 33     885\n",
              "2          711          554  ...                  2     907\n",
              "3         5338         6054  ...                 31     612\n",
              "4         5250         3494  ...                 11     283\n",
              "\n",
              "[5 rows x 6 columns]"
            ]
          },
          "metadata": {},
          "execution_count": 67
        }
      ]
    },
    {
      "cell_type": "code",
      "metadata": {
        "id": "UPWY7hkT8gNW"
      },
      "source": [
        "x=valid_data[['companyName','designation','experienceMas','qualificationMas','qualificationMas2']]"
      ],
      "execution_count": 68,
      "outputs": []
    },
    {
      "cell_type": "code",
      "metadata": {
        "id": "yYMCqq3fdKdv",
        "colab": {
          "base_uri": "https://localhost:8080/",
          "height": 295
        },
        "outputId": "3139bee6-8e41-47c1-b2d0-d9402b3675a5"
      },
      "source": [
        "from sklearn.cluster import KMeans\n",
        "\n",
        "wcss=[]\n",
        "for i in range(1,11):\n",
        "    kmeans=KMeans(n_clusters=i, init='k-means++',random_state=0)\n",
        "    kmeans.fit(x)\n",
        "    wcss.append(kmeans.inertia_)\n",
        "\n",
        "plt.plot(range(1,11),wcss)\n",
        "plt.title('The Elbow Method')\n",
        "plt.xlabel('Number of Clusters')\n",
        "plt.ylabel('WCSS')\n",
        "plt.show()\n",
        "\n"
      ],
      "execution_count": 69,
      "outputs": [
        {
          "output_type": "display_data",
          "data": {
            "image/png": "[encoded data removed]",
            "text/plain": [
              "<Figure size 432x288 with 1 Axes>"
            ]
          },
          "metadata": {
            "needs_background": "light"
          }
        }
      ]
    },
    {
      "cell_type": "code",
      "metadata": {
        "id": "sjk9HskY9c9-"
      },
      "source": [
        "kmeans=KMeans(n_clusters=4,random_state=0)\n",
        "y_pred=kmeans.fit_predict(x)"
      ],
      "execution_count": 70,
      "outputs": []
    },
    {
      "cell_type": "code",
      "metadata": {
        "colab": {
          "base_uri": "https://localhost:8080/"
        },
        "id": "lmqQPv7cD6ES",
        "outputId": "2443162d-1e75-43bf-d3a4-bffdc5b20e50"
      },
      "source": [
        "y_pred"
      ],
      "execution_count": 71,
      "outputs": [
        {
          "output_type": "execute_result",
          "data": {
            "text/plain": [
              "array([1, 0, 0, ..., 3, 1, 2], dtype=int32)"
            ]
          },
          "metadata": {},
          "execution_count": 71
        }
      ]
    },
    {
      "cell_type": "code",
      "metadata": {
        "id": "UlPgj6HvD9Y4"
      },
      "source": [
        "valid_data['cluster']=y_pred"
      ],
      "execution_count": 73,
      "outputs": []
    },
    {
      "cell_type": "code",
      "metadata": {
        "colab": {
          "base_uri": "https://localhost:8080/",
          "height": 205
        },
        "id": "-EWyxsL0EI2V",
        "outputId": "6b59d92b-5e19-4611-c8f7-4c3b0df58786"
      },
      "source": [
        "valid_data.head()"
      ],
      "execution_count": 74,
      "outputs": [
        {
          "output_type": "execute_result",
          "data": {
            "text/html": [
              "<div>\n",
              "<style scoped>\n",
              "    .dataframe tbody tr th:only-of-type {\n",
              "        vertical-align: middle;\n",
              "    }\n",
              "\n",
              "    .dataframe tbody tr th {\n",
              "        vertical-align: top;\n",
              "    }\n",
              "\n",
              "    .dataframe thead th {\n",
              "        text-align: right;\n",
              "    }\n",
              "</style>\n",
              "<table border=\"1\" class=\"dataframe\">\n",
              "  <thead>\n",
              "    <tr style=\"text-align: right;\">\n",
              "      <th></th>\n",
              "      <th>companyName</th>\n",
              "      <th>designation</th>\n",
              "      <th>experienceMas</th>\n",
              "      <th>qualificationMas</th>\n",
              "      <th>qualificationMas2</th>\n",
              "      <th>salary</th>\n",
              "      <th>cluster</th>\n",
              "    </tr>\n",
              "  </thead>\n",
              "  <tbody>\n",
              "    <tr>\n",
              "      <th>0</th>\n",
              "      <td>122</td>\n",
              "      <td>3869</td>\n",
              "      <td>351</td>\n",
              "      <td>34</td>\n",
              "      <td>4</td>\n",
              "      <td>612</td>\n",
              "      <td>1</td>\n",
              "    </tr>\n",
              "    <tr>\n",
              "      <th>1</th>\n",
              "      <td>977</td>\n",
              "      <td>740</td>\n",
              "      <td>367</td>\n",
              "      <td>2</td>\n",
              "      <td>33</td>\n",
              "      <td>885</td>\n",
              "      <td>0</td>\n",
              "    </tr>\n",
              "    <tr>\n",
              "      <th>2</th>\n",
              "      <td>711</td>\n",
              "      <td>554</td>\n",
              "      <td>32</td>\n",
              "      <td>34</td>\n",
              "      <td>2</td>\n",
              "      <td>907</td>\n",
              "      <td>0</td>\n",
              "    </tr>\n",
              "    <tr>\n",
              "      <th>3</th>\n",
              "      <td>5338</td>\n",
              "      <td>6054</td>\n",
              "      <td>357</td>\n",
              "      <td>2</td>\n",
              "      <td>31</td>\n",
              "      <td>612</td>\n",
              "      <td>3</td>\n",
              "    </tr>\n",
              "    <tr>\n",
              "      <th>4</th>\n",
              "      <td>5250</td>\n",
              "      <td>3494</td>\n",
              "      <td>18</td>\n",
              "      <td>38</td>\n",
              "      <td>11</td>\n",
              "      <td>283</td>\n",
              "      <td>3</td>\n",
              "    </tr>\n",
              "  </tbody>\n",
              "</table>\n",
              "</div>"
            ],
            "text/plain": [
              "   companyName  designation  experienceMas  ...  qualificationMas2  salary  cluster\n",
              "0          122         3869            351  ...                  4     612        1\n",
              "1          977          740            367  ...                 33     885        0\n",
              "2          711          554             32  ...                  2     907        0\n",
              "3         5338         6054            357  ...                 31     612        3\n",
              "4         5250         3494             18  ...                 11     283        3\n",
              "\n",
              "[5 rows x 7 columns]"
            ]
          },
          "metadata": {},
          "execution_count": 74
        }
      ]
    },
    {
      "cell_type": "code",
      "metadata": {
        "id": "5QaYWjIeFIZY"
      },
      "source": [
        ""
      ],
      "execution_count": null,
      "outputs": []
    }
  ]
}